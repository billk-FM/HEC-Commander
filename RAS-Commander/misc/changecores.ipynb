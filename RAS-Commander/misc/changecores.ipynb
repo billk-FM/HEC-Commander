{
 "cells": [
  {
   "cell_type": "markdown",
   "metadata": {},
   "source": [
    "### Example of using AI to generate code to change HEC-RAS # of cores for all plans in a folder\n",
    "\n",
    "Author: William (Bill) Katzenmeyer, P.E., C.F.M. (C.H. Fenstermaker and Associates, LLC)\n",
    "\n",
    "Source: https://github.com/billk-FM/HEC-Commander-Tools"
   ]
  },
  {
   "cell_type": "markdown",
   "metadata": {},
   "source": [
    "Prompt: \n",
    "\n",
    "User will provide:\n",
    "\n",
    "HEC-RAS Folder  \n",
    "New # of cores\n",
    "\n",
    "### Example line in .pXX file noting 6 cores \"UNET D1 Cores= 6\" \n",
    "\n",
    "Script will search for files with extension .pXX (where XX is 01 to 99)\n",
    "\n",
    "Script will then open each file and replace the existing # of cores with the new #\n",
    "\n",
    "Script will save the file with the changes"
   ]
  },
  {
   "cell_type": "code",
   "execution_count": null,
   "metadata": {},
   "outputs": [],
   "source": [
    "# User-Defined Parameters\n",
    "hec_ras_folder = r\"path_to_ras_folder\"\n",
    "new_cores = 4"
   ]
  },
  {
   "cell_type": "code",
   "execution_count": null,
   "metadata": {},
   "outputs": [],
   "source": [
    "# AI Generated Code: \n",
    "\n",
    "#Change RAS Cores in .pxx Files:\n",
    "import os\n",
    "import re\n",
    "from tqdm import tqdm\n",
    "\n",
    "def change_hec_ras_cores(hec_ras_folder: str, new_cores: int):\n",
    "    \"\"\"\n",
    "    Change the number of cores in HEC-RAS .pXX files within the specified folder.\n",
    "\n",
    "    Parameters:\n",
    "    hec_ras_folder (str): The folder containing HEC-RAS .pXX files.\n",
    "    new_cores (int): The new number of cores to set in the .pXX files.\n",
    "    \"\"\"\n",
    "    # Ensure the folder path is a raw string\n",
    "    hec_ras_folder = r\"{}\".format(hec_ras_folder)\n",
    "    \n",
    "    # Compile the regex pattern to match the cores line\n",
    "    cores_pattern = re.compile(r\"(UNET D1 Cores= )\\d+\")\n",
    "    \n",
    "    # List all .pXX files in the directory\n",
    "    pxx_files = [f for f in os.listdir(hec_ras_folder) if re.match(r'.*\\.p\\d{2}$', f)]\n",
    "    \n",
    "    print(f\"Found {len(pxx_files)} .pXX files in the directory.\")\n",
    "    \n",
    "    # Iterate over each .pXX file\n",
    "    for pxx_file in tqdm(pxx_files, desc=\"Processing files\"):\n",
    "        file_path = os.path.join(hec_ras_folder, pxx_file)\n",
    "        \n",
    "        # Read the file content\n",
    "        with open(file_path, 'r') as file:\n",
    "            content = file.read()\n",
    "        \n",
    "        # Replace the cores line with the new number of cores\n",
    "        new_content = cores_pattern.sub(rf\"\\g<1>{new_cores}\", content)\n",
    "        \n",
    "        # Write the new content back to the file\n",
    "        with open(file_path, 'w') as file:\n",
    "            file.write(new_content)\n",
    "        \n",
    "        print(f\"Updated {pxx_file} with {new_cores} cores.\")\n",
    "    \n",
    "    print(\"All files have been processed.\")\n",
    "\n",
    "\n",
    "change_hec_ras_cores(hec_ras_folder, new_cores)\n"
   ]
  }
 ],
 "metadata": {
  "kernelspec": {
   "display_name": "scraper311",
   "language": "python",
   "name": "python3"
  },
  "language_info": {
   "codemirror_mode": {
    "name": "ipython",
    "version": 3
   },
   "file_extension": ".py",
   "mimetype": "text/x-python",
   "name": "python",
   "nbconvert_exporter": "python",
   "pygments_lexer": "ipython3",
   "version": "3.11.9"
  }
 },
 "nbformat": 4,
 "nbformat_minor": 2
}
