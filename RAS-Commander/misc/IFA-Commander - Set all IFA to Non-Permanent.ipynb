{
 "cells": [
  {
   "cell_type": "code",
   "execution_count": null,
   "metadata": {},
   "outputs": [],
   "source": [
    "'''\n",
    "\n",
    "Author: Tyler Young, E.I., C.H. Fenstermaker and Associates, L.L.C.\n",
    "\n",
    "PURPOSE AND NEED FOR THIS SCRIPT: \n",
    "When using Rasmapper to implement IFA's, as of version 6.4 it will create all IFAs as permanent by default\n",
    "Since the typical Ineffective flow area at a overtopping structure needs to be non-permanenet, this script allows changing all IFAs to non-permanent\n",
    "\n",
    "SOLUTION: \n",
    "In the HEC-RAS Geometry file, the permanence of Ineffective Flow Areas (IFAs) is denoted by \" T \" for True (permanent) and \" F \" for False (non-permanent)\n",
    "This script wil search and replace all values.  \n",
    "\n",
    "FUTURE IMPROVEMENTS:\n",
    "Allow the user to manually toggle the permanenence of each IFA in the geometry file, then use the script to generate a list of IFA's that were toggled\n",
    "and maintain permanence while revising the rest of the geometry file.\n",
    "\n",
    "'''\n",
    "\n",
    "# Define the path to the geometry file and the override setting for IFAs\n",
    "geometry_file_path = r\"C:\\_LOCAL\\WH_RAS_Error_Hunt_Working(6.4)_082323\\WH_Whisky_Chitto.g03\""
   ]
  },
  {
   "cell_type": "code",
   "execution_count": null,
   "metadata": {},
   "outputs": [
    {
     "name": "stdout",
     "output_type": "stream",
     "text": [
      "Path to the geometry file: C:\\_LOCAL\\WH_RAS_Error_Hunt_Working(6.4)_082323\\WH_Whisky_Chitto.g03\n",
      "Replacing pattern: ' T ' with: ' F '\n",
      "Replacing pattern: 'T\\nB' with: 'F\\nB'\n",
      "Replacements performed successfully.\n"
     ]
    }
   ],
   "source": [
    "# Script Logic\n",
    "\n",
    "search_replace_patterns = [(\" T \", \" F \"), (\"T\\nB\", \"F\\nB\")]\n",
    "\n",
    "# Function to perform search and replace operations\n",
    "def perform_replacements(file_path, patterns):\n",
    "    with open(file_path, 'r') as file:\n",
    "        file_content = file.read()\n",
    "\n",
    "    for pattern, replacement in patterns:\n",
    "        file_content = file_content.replace(pattern, replacement)\n",
    "\n",
    "    with open(file_path, 'w') as file:\n",
    "        file.write(file_content)\n",
    "\n",
    "    print(\"Replacements performed successfully.\")\n",
    "\n",
    "# Confirm user inputs and perform the replacements\n",
    "print(f\"Path to the geometry file: {geometry_file_path}\")\n",
    "for pattern, replacement in search_replace_patterns:\n",
    "    print(f\"Replacing pattern: {pattern!r} with: {replacement!r}\")\n",
    "\n",
    "perform_replacements(geometry_file_path, search_replace_patterns)\n"
   ]
  }
 ],
 "metadata": {
  "kernelspec": {
   "display_name": "TyDss",
   "language": "python",
   "name": "python3"
  },
  "language_info": {
   "codemirror_mode": {
    "name": "ipython",
    "version": 3
   },
   "file_extension": ".py",
   "mimetype": "text/x-python",
   "name": "python",
   "nbconvert_exporter": "python",
   "pygments_lexer": "ipython3",
   "version": "3.9.16"
  },
  "orig_nbformat": 4
 },
 "nbformat": 4,
 "nbformat_minor": 2
}
