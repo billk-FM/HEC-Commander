{
 "cells": [
  {
   "cell_type": "code",
   "execution_count": 3,
   "metadata": {},
   "outputs": [],
   "source": [
    "# usage\n",
    "submittal_directory_path = r'H:\\2202134.00C_LWI_Region4\\01C_WhiskyChitto\\RAS\\_2023_10_05_Submittal_Folder' \n",
    "# Directory path of your submittal folder\n"
   ]
  },
  {
   "cell_type": "code",
   "execution_count": 4,
   "metadata": {},
   "outputs": [
    {
     "name": "stdout",
     "output_type": "stream",
     "text": [
      "The longest file path is _2023_10_05_Submittal_Folder\\RAS\\03_Terrain\\WH_Terrain.Terrain_mod_Mosaic_20230112_Conditional_20230113.tif.aux.xml with a length of 115 characters.\n",
      "There are 145 characters remaining before reaching the NTFS limit of 260 characters.\n"
     ]
    }
   ],
   "source": [
    "import os\n",
    "\n",
    "def longest_file_path(directory):\n",
    "    longest_path = ''\n",
    "    for dirpath, dirnames, filenames in os.walk(directory):\n",
    "        for filename in filenames:\n",
    "            full_path = os.path.join(dirpath, filename)\n",
    "            relative_path = os.path.relpath(full_path, directory)\n",
    "            if len(relative_path) > len(longest_path):\n",
    "                longest_path = relative_path\n",
    "    # add 1 for the separator\n",
    "    return len(longest_path) + len(os.path.basename(directory)) + 1, longest_path\n",
    "\n",
    "path_length, path = longest_file_path(submittal_directory_path)\n",
    "ntfs_limit = 260\n",
    "remaining_chars = ntfs_limit - path_length\n",
    "print(f'The longest file path is {os.path.basename(submittal_directory_path)}\\\\{path} with a length of {path_length} characters.')\n",
    "print(f'There are {remaining_chars} characters remaining before reaching the NTFS limit of {ntfs_limit} characters.')\n"
   ]
  }
 ],
 "metadata": {
  "kernelspec": {
   "display_name": "pydss",
   "language": "python",
   "name": "python3"
  },
  "language_info": {
   "codemirror_mode": {
    "name": "ipython",
    "version": 3
   },
   "file_extension": ".py",
   "mimetype": "text/x-python",
   "name": "python",
   "nbconvert_exporter": "python",
   "pygments_lexer": "ipython3",
   "version": "3.11.5"
  },
  "orig_nbformat": 4
 },
 "nbformat": 4,
 "nbformat_minor": 2
}
